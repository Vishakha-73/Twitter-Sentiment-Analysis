{
 "cells": [
  {
   "cell_type": "markdown",
   "id": "42b094f4",
   "metadata": {},
   "source": [
    "**Importing the Dependencies**"
   ]
  },
  {
   "cell_type": "code",
   "execution_count": 1,
   "id": "b7460375",
   "metadata": {},
   "outputs": [],
   "source": [
    "import numpy as np\n",
    "import pandas as pd\n",
    "\n",
    "import re\n",
    "import pickle\n",
    "\n",
    "from nltk.corpus import stopwords\n",
    "from nltk.stem.porter import PorterStemmer\n",
    "\n",
    "from sklearn.feature_extraction.text import TfidfVectorizer\n",
    "\n",
    "from sklearn.model_selection import train_test_split, StratifiedKFold, cross_val_score\n",
    "\n",
    "from sklearn.linear_model import LogisticRegression\n",
    "from sklearn.ensemble import RandomForestClassifier\n",
    "from sklearn.naive_bayes import MultinomialNB\n",
    "\n",
    "from sklearn.metrics import accuracy_score\n",
    "from sklearn.metrics import ConfusionMatrixDisplay\n",
    "from sklearn import metrics"
   ]
  },
  {
   "cell_type": "markdown",
   "id": "696dca85",
   "metadata": {},
   "source": [
    "**Data Preprocessing**"
   ]
  },
  {
   "cell_type": "code",
   "execution_count": 2,
   "id": "173ce51a",
   "metadata": {},
   "outputs": [
    {
     "data": {
      "text/plain": [
       "(1599999, 6)"
      ]
     },
     "execution_count": 2,
     "metadata": {},
     "output_type": "execute_result"
    }
   ],
   "source": [
    "data = pd.read_csv('sentiment140/training.1600000.processed.noemoticon[1].csv', encoding='latin-1')\n",
    "\n",
    "data.shape"
   ]
  },
  {
   "cell_type": "code",
   "execution_count": 3,
   "id": "21b90ca6",
   "metadata": {},
   "outputs": [
    {
     "data": {
      "text/html": [
       "<div>\n",
       "<style scoped>\n",
       "    .dataframe tbody tr th:only-of-type {\n",
       "        vertical-align: middle;\n",
       "    }\n",
       "\n",
       "    .dataframe tbody tr th {\n",
       "        vertical-align: top;\n",
       "    }\n",
       "\n",
       "    .dataframe thead th {\n",
       "        text-align: right;\n",
       "    }\n",
       "</style>\n",
       "<table border=\"1\" class=\"dataframe\">\n",
       "  <thead>\n",
       "    <tr style=\"text-align: right;\">\n",
       "      <th></th>\n",
       "      <th>0</th>\n",
       "      <th>1467810369</th>\n",
       "      <th>Mon Apr 06 22:19:45 PDT 2009</th>\n",
       "      <th>NO_QUERY</th>\n",
       "      <th>_TheSpecialOne_</th>\n",
       "      <th>@switchfoot http://twitpic.com/2y1zl - Awww, that's a bummer.  You shoulda got David Carr of Third Day to do it. ;D</th>\n",
       "    </tr>\n",
       "  </thead>\n",
       "  <tbody>\n",
       "    <tr>\n",
       "      <th>0</th>\n",
       "      <td>0</td>\n",
       "      <td>1467810672</td>\n",
       "      <td>Mon Apr 06 22:19:49 PDT 2009</td>\n",
       "      <td>NO_QUERY</td>\n",
       "      <td>scotthamilton</td>\n",
       "      <td>is upset that he can't update his Facebook by ...</td>\n",
       "    </tr>\n",
       "    <tr>\n",
       "      <th>1</th>\n",
       "      <td>0</td>\n",
       "      <td>1467810917</td>\n",
       "      <td>Mon Apr 06 22:19:53 PDT 2009</td>\n",
       "      <td>NO_QUERY</td>\n",
       "      <td>mattycus</td>\n",
       "      <td>@Kenichan I dived many times for the ball. Man...</td>\n",
       "    </tr>\n",
       "    <tr>\n",
       "      <th>2</th>\n",
       "      <td>0</td>\n",
       "      <td>1467811184</td>\n",
       "      <td>Mon Apr 06 22:19:57 PDT 2009</td>\n",
       "      <td>NO_QUERY</td>\n",
       "      <td>ElleCTF</td>\n",
       "      <td>my whole body feels itchy and like its on fire</td>\n",
       "    </tr>\n",
       "    <tr>\n",
       "      <th>3</th>\n",
       "      <td>0</td>\n",
       "      <td>1467811193</td>\n",
       "      <td>Mon Apr 06 22:19:57 PDT 2009</td>\n",
       "      <td>NO_QUERY</td>\n",
       "      <td>Karoli</td>\n",
       "      <td>@nationwideclass no, it's not behaving at all....</td>\n",
       "    </tr>\n",
       "    <tr>\n",
       "      <th>4</th>\n",
       "      <td>0</td>\n",
       "      <td>1467811372</td>\n",
       "      <td>Mon Apr 06 22:20:00 PDT 2009</td>\n",
       "      <td>NO_QUERY</td>\n",
       "      <td>joy_wolf</td>\n",
       "      <td>@Kwesidei not the whole crew</td>\n",
       "    </tr>\n",
       "  </tbody>\n",
       "</table>\n",
       "</div>"
      ],
      "text/plain": [
       "   0  1467810369  Mon Apr 06 22:19:45 PDT 2009  NO_QUERY _TheSpecialOne_  \\\n",
       "0  0  1467810672  Mon Apr 06 22:19:49 PDT 2009  NO_QUERY   scotthamilton   \n",
       "1  0  1467810917  Mon Apr 06 22:19:53 PDT 2009  NO_QUERY        mattycus   \n",
       "2  0  1467811184  Mon Apr 06 22:19:57 PDT 2009  NO_QUERY         ElleCTF   \n",
       "3  0  1467811193  Mon Apr 06 22:19:57 PDT 2009  NO_QUERY          Karoli   \n",
       "4  0  1467811372  Mon Apr 06 22:20:00 PDT 2009  NO_QUERY        joy_wolf   \n",
       "\n",
       "  @switchfoot http://twitpic.com/2y1zl - Awww, that's a bummer.  You shoulda got David Carr of Third Day to do it. ;D  \n",
       "0  is upset that he can't update his Facebook by ...                                                                   \n",
       "1  @Kenichan I dived many times for the ball. Man...                                                                   \n",
       "2    my whole body feels itchy and like its on fire                                                                    \n",
       "3  @nationwideclass no, it's not behaving at all....                                                                   \n",
       "4                      @Kwesidei not the whole crew                                                                    "
      ]
     },
     "execution_count": 3,
     "metadata": {},
     "output_type": "execute_result"
    }
   ],
   "source": [
    "data.head(5)"
   ]
  },
  {
   "cell_type": "code",
   "execution_count": 4,
   "id": "996401a6",
   "metadata": {},
   "outputs": [],
   "source": [
    "columns=[\"Target\",\"IdentificationID\",\"Date\",\"Flag\",\"UserSource\",\"SentimentText\"]\n",
    "\n",
    "data = pd.read_csv('sentiment140/training.1600000.processed.noemoticon[1].csv', encoding='latin-1', names=columns)\n",
    "    \n",
    "data.drop(['IdentificationID', 'UserSource'], axis=1, inplace=True)\n",
    "#data = data[data.Target.isnull() == False]\n",
    "    \n",
    "data['Target'] = data['Target'].map( {4:1, 0:0}) #renaming the labels as 0 and 1 from 0 and 4\n",
    "#data = data[data['SentimentText'].isnull() == False]\n",
    "    \n",
    "data.reset_index(inplace=True)\n",
    "data.drop('index', axis=1, inplace=True)\n",
    "    \n"
   ]
  },
  {
   "cell_type": "code",
   "execution_count": 5,
   "id": "1272a784",
   "metadata": {},
   "outputs": [
    {
     "data": {
      "text/html": [
       "<div>\n",
       "<style scoped>\n",
       "    .dataframe tbody tr th:only-of-type {\n",
       "        vertical-align: middle;\n",
       "    }\n",
       "\n",
       "    .dataframe tbody tr th {\n",
       "        vertical-align: top;\n",
       "    }\n",
       "\n",
       "    .dataframe thead th {\n",
       "        text-align: right;\n",
       "    }\n",
       "</style>\n",
       "<table border=\"1\" class=\"dataframe\">\n",
       "  <thead>\n",
       "    <tr style=\"text-align: right;\">\n",
       "      <th></th>\n",
       "      <th>Target</th>\n",
       "      <th>Date</th>\n",
       "      <th>Flag</th>\n",
       "      <th>SentimentText</th>\n",
       "    </tr>\n",
       "  </thead>\n",
       "  <tbody>\n",
       "    <tr>\n",
       "      <th>0</th>\n",
       "      <td>0</td>\n",
       "      <td>Mon Apr 06 22:19:45 PDT 2009</td>\n",
       "      <td>NO_QUERY</td>\n",
       "      <td>@switchfoot http://twitpic.com/2y1zl - Awww, t...</td>\n",
       "    </tr>\n",
       "    <tr>\n",
       "      <th>1</th>\n",
       "      <td>0</td>\n",
       "      <td>Mon Apr 06 22:19:49 PDT 2009</td>\n",
       "      <td>NO_QUERY</td>\n",
       "      <td>is upset that he can't update his Facebook by ...</td>\n",
       "    </tr>\n",
       "    <tr>\n",
       "      <th>2</th>\n",
       "      <td>0</td>\n",
       "      <td>Mon Apr 06 22:19:53 PDT 2009</td>\n",
       "      <td>NO_QUERY</td>\n",
       "      <td>@Kenichan I dived many times for the ball. Man...</td>\n",
       "    </tr>\n",
       "    <tr>\n",
       "      <th>3</th>\n",
       "      <td>0</td>\n",
       "      <td>Mon Apr 06 22:19:57 PDT 2009</td>\n",
       "      <td>NO_QUERY</td>\n",
       "      <td>my whole body feels itchy and like its on fire</td>\n",
       "    </tr>\n",
       "    <tr>\n",
       "      <th>4</th>\n",
       "      <td>0</td>\n",
       "      <td>Mon Apr 06 22:19:57 PDT 2009</td>\n",
       "      <td>NO_QUERY</td>\n",
       "      <td>@nationwideclass no, it's not behaving at all....</td>\n",
       "    </tr>\n",
       "  </tbody>\n",
       "</table>\n",
       "</div>"
      ],
      "text/plain": [
       "   Target                          Date      Flag  \\\n",
       "0       0  Mon Apr 06 22:19:45 PDT 2009  NO_QUERY   \n",
       "1       0  Mon Apr 06 22:19:49 PDT 2009  NO_QUERY   \n",
       "2       0  Mon Apr 06 22:19:53 PDT 2009  NO_QUERY   \n",
       "3       0  Mon Apr 06 22:19:57 PDT 2009  NO_QUERY   \n",
       "4       0  Mon Apr 06 22:19:57 PDT 2009  NO_QUERY   \n",
       "\n",
       "                                       SentimentText  \n",
       "0  @switchfoot http://twitpic.com/2y1zl - Awww, t...  \n",
       "1  is upset that he can't update his Facebook by ...  \n",
       "2  @Kenichan I dived many times for the ball. Man...  \n",
       "3    my whole body feels itchy and like its on fire   \n",
       "4  @nationwideclass no, it's not behaving at all....  "
      ]
     },
     "execution_count": 5,
     "metadata": {},
     "output_type": "execute_result"
    }
   ],
   "source": [
    "data.head(5)"
   ]
  },
  {
   "cell_type": "code",
   "execution_count": 6,
   "id": "83591a9e",
   "metadata": {},
   "outputs": [
    {
     "data": {
      "text/html": [
       "<div>\n",
       "<style scoped>\n",
       "    .dataframe tbody tr th:only-of-type {\n",
       "        vertical-align: middle;\n",
       "    }\n",
       "\n",
       "    .dataframe tbody tr th {\n",
       "        vertical-align: top;\n",
       "    }\n",
       "\n",
       "    .dataframe thead th {\n",
       "        text-align: right;\n",
       "    }\n",
       "</style>\n",
       "<table border=\"1\" class=\"dataframe\">\n",
       "  <thead>\n",
       "    <tr style=\"text-align: right;\">\n",
       "      <th></th>\n",
       "      <th>Target</th>\n",
       "      <th>Date</th>\n",
       "      <th>Flag</th>\n",
       "      <th>SentimentText</th>\n",
       "    </tr>\n",
       "  </thead>\n",
       "  <tbody>\n",
       "    <tr>\n",
       "      <th>1599995</th>\n",
       "      <td>1</td>\n",
       "      <td>Tue Jun 16 08:40:49 PDT 2009</td>\n",
       "      <td>NO_QUERY</td>\n",
       "      <td>Just woke up. Having no school is the best fee...</td>\n",
       "    </tr>\n",
       "    <tr>\n",
       "      <th>1599996</th>\n",
       "      <td>1</td>\n",
       "      <td>Tue Jun 16 08:40:49 PDT 2009</td>\n",
       "      <td>NO_QUERY</td>\n",
       "      <td>TheWDB.com - Very cool to hear old Walt interv...</td>\n",
       "    </tr>\n",
       "    <tr>\n",
       "      <th>1599997</th>\n",
       "      <td>1</td>\n",
       "      <td>Tue Jun 16 08:40:49 PDT 2009</td>\n",
       "      <td>NO_QUERY</td>\n",
       "      <td>Are you ready for your MoJo Makeover? Ask me f...</td>\n",
       "    </tr>\n",
       "    <tr>\n",
       "      <th>1599998</th>\n",
       "      <td>1</td>\n",
       "      <td>Tue Jun 16 08:40:49 PDT 2009</td>\n",
       "      <td>NO_QUERY</td>\n",
       "      <td>Happy 38th Birthday to my boo of alll time!!! ...</td>\n",
       "    </tr>\n",
       "    <tr>\n",
       "      <th>1599999</th>\n",
       "      <td>1</td>\n",
       "      <td>Tue Jun 16 08:40:50 PDT 2009</td>\n",
       "      <td>NO_QUERY</td>\n",
       "      <td>happy #charitytuesday @theNSPCC @SparksCharity...</td>\n",
       "    </tr>\n",
       "  </tbody>\n",
       "</table>\n",
       "</div>"
      ],
      "text/plain": [
       "         Target                          Date      Flag  \\\n",
       "1599995       1  Tue Jun 16 08:40:49 PDT 2009  NO_QUERY   \n",
       "1599996       1  Tue Jun 16 08:40:49 PDT 2009  NO_QUERY   \n",
       "1599997       1  Tue Jun 16 08:40:49 PDT 2009  NO_QUERY   \n",
       "1599998       1  Tue Jun 16 08:40:49 PDT 2009  NO_QUERY   \n",
       "1599999       1  Tue Jun 16 08:40:50 PDT 2009  NO_QUERY   \n",
       "\n",
       "                                             SentimentText  \n",
       "1599995  Just woke up. Having no school is the best fee...  \n",
       "1599996  TheWDB.com - Very cool to hear old Walt interv...  \n",
       "1599997  Are you ready for your MoJo Makeover? Ask me f...  \n",
       "1599998  Happy 38th Birthday to my boo of alll time!!! ...  \n",
       "1599999  happy #charitytuesday @theNSPCC @SparksCharity...  "
      ]
     },
     "execution_count": 6,
     "metadata": {},
     "output_type": "execute_result"
    }
   ],
   "source": [
    "data.tail(5)"
   ]
  },
  {
   "cell_type": "code",
   "execution_count": 7,
   "id": "b11c62e2",
   "metadata": {},
   "outputs": [
    {
     "data": {
      "text/plain": [
       "(1600000, 4)"
      ]
     },
     "execution_count": 7,
     "metadata": {},
     "output_type": "execute_result"
    }
   ],
   "source": [
    "data.shape"
   ]
  },
  {
   "cell_type": "code",
   "execution_count": 8,
   "id": "b376b745",
   "metadata": {},
   "outputs": [
    {
     "data": {
      "text/plain": [
       "Target           0\n",
       "Date             0\n",
       "Flag             0\n",
       "SentimentText    0\n",
       "dtype: int64"
      ]
     },
     "execution_count": 8,
     "metadata": {},
     "output_type": "execute_result"
    }
   ],
   "source": [
    "data.isnull().sum()"
   ]
  },
  {
   "cell_type": "markdown",
   "id": "403ce4f7",
   "metadata": {},
   "source": [
    "**Checking the target distribution**"
   ]
  },
  {
   "cell_type": "code",
   "execution_count": 9,
   "id": "ba45bc3b",
   "metadata": {},
   "outputs": [
    {
     "data": {
      "text/plain": [
       "<Axes: >"
      ]
     },
     "execution_count": 9,
     "metadata": {},
     "output_type": "execute_result"
    },
    {
     "data": {
      "image/png": "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",
      "text/plain": [
       "<Figure size 640x480 with 1 Axes>"
      ]
     },
     "metadata": {},
     "output_type": "display_data"
    }
   ],
   "source": [
    "data[\"Target\"].hist(bins=10, color='green', edgecolor='black')"
   ]
  },
  {
   "cell_type": "code",
   "execution_count": 10,
   "id": "65930975",
   "metadata": {},
   "outputs": [],
   "source": [
    "#balanced and equalized dataset"
   ]
  },
  {
   "cell_type": "markdown",
   "id": "4d34142f",
   "metadata": {},
   "source": [
    "**Stopwords removal and Tokenization**"
   ]
  },
  {
   "cell_type": "code",
   "execution_count": 11,
   "id": "885a4a62",
   "metadata": {},
   "outputs": [
    {
     "name": "stdout",
     "output_type": "stream",
     "text": [
      "['i', 'me', 'my', 'myself', 'we', 'our', 'ours', 'ourselves', 'you', \"you're\", \"you've\", \"you'll\", \"you'd\", 'your', 'yours', 'yourself', 'yourselves', 'he', 'him', 'his', 'himself', 'she', \"she's\", 'her', 'hers', 'herself', 'it', \"it's\", 'its', 'itself', 'they', 'them', 'their', 'theirs', 'themselves', 'what', 'which', 'who', 'whom', 'this', 'that', \"that'll\", 'these', 'those', 'am', 'is', 'are', 'was', 'were', 'be', 'been', 'being', 'have', 'has', 'had', 'having', 'do', 'does', 'did', 'doing', 'a', 'an', 'the', 'and', 'but', 'if', 'or', 'because', 'as', 'until', 'while', 'of', 'at', 'by', 'for', 'with', 'about', 'against', 'between', 'into', 'through', 'during', 'before', 'after', 'above', 'below', 'to', 'from', 'up', 'down', 'in', 'out', 'on', 'off', 'over', 'under', 'again', 'further', 'then', 'once', 'here', 'there', 'when', 'where', 'why', 'how', 'all', 'any', 'both', 'each', 'few', 'more', 'most', 'other', 'some', 'such', 'no', 'nor', 'not', 'only', 'own', 'same', 'so', 'than', 'too', 'very', 's', 't', 'can', 'will', 'just', 'don', \"don't\", 'should', \"should've\", 'now', 'd', 'll', 'm', 'o', 're', 've', 'y', 'ain', 'aren', \"aren't\", 'couldn', \"couldn't\", 'didn', \"didn't\", 'doesn', \"doesn't\", 'hadn', \"hadn't\", 'hasn', \"hasn't\", 'haven', \"haven't\", 'isn', \"isn't\", 'ma', 'mightn', \"mightn't\", 'mustn', \"mustn't\", 'needn', \"needn't\", 'shan', \"shan't\", 'shouldn', \"shouldn't\", 'wasn', \"wasn't\", 'weren', \"weren't\", 'won', \"won't\", 'wouldn', \"wouldn't\"]\n"
     ]
    },
    {
     "name": "stderr",
     "output_type": "stream",
     "text": [
      "[nltk_data] Downloading package stopwords to C:\\Users\\Vishakha\n",
      "[nltk_data]     Singh\\AppData\\Roaming\\nltk_data...\n",
      "[nltk_data]   Package stopwords is already up-to-date!\n"
     ]
    }
   ],
   "source": [
    "import nltk\n",
    "\n",
    "negative_words = [\n",
    "    \"no\",\"not\",\"none\",\"neither\",\"never\",\"doesn't\",\"isn't\",\"wasn't\",\"shouldn't\",\"won't\",\"can't\",\"couldn't\",\"don't\",\"haven't\",\n",
    "    \"hasn't\",\"hadn't\",\"aren't\",\"weren't\",\"wouldn't\",\"didn't\",\"wouldn\",\"didn\",\"weren\",\"wasn\",\"shouldn\",\"mustn\",\"mustn't\",\n",
    "    \"mightn\",\"mightn't\",\"haven\",\"hasn\",\"isn\",\"aren\",\"hadn\",\"doesn\",\"ain\",\"don\",\"nor\",\"needn't\",\"needn\"\n",
    "]\n",
    "\n",
    "nltk.download('stopwords')\n",
    "\n",
    "print(stopwords.words('english'))\n"
   ]
  },
  {
   "cell_type": "code",
   "execution_count": 12,
   "id": "20a07a7d",
   "metadata": {},
   "outputs": [],
   "source": [
    "stop_words = set(stopwords.words('english'))- set(negative_words)\n",
    "\n",
    "def remove_stopwords(tweet, stopwords_list):\n",
    "    tweet = unicode(tweet.decode('utf-8').lower())\n",
    "    tokens = nltk.word_tokenize(tweet)\n",
    "    \n",
    "    filtered_tokens = [word for word in tokens if word.lower() not in stop_words ]\n",
    "    return ' '.join(filtered_tokens)"
   ]
  },
  {
   "cell_type": "code",
   "execution_count": 13,
   "id": "f86df1b3",
   "metadata": {},
   "outputs": [
    {
     "name": "stdout",
     "output_type": "stream",
     "text": [
      "{'each', 'has', \"she's\", 'about', 'your', 'you', 'those', 'will', 'had', 'out', 'theirs', 'on', 'off', 'being', 'until', 'such', 'the', 'm', 'below', 'at', 'yourselves', \"you're\", 'doing', \"should've\", 're', 'to', 'more', 'won', 'but', 'only', 'if', 'myself', 'ours', 'is', 'where', 'so', 've', 'while', 'this', 'yourself', 'were', 'o', 'should', 'y', 'and', 'by', 'just', 'our', 'over', 'do', 'other', 'their', 'couldn', 'did', 'itself', \"it's\", 'between', 'or', 'they', 'before', 'ourselves', 'all', 'because', 'me', 'have', 'yours', 'are', 'with', 'whom', 'my', 'for', 'few', 'll', 'ma', \"you'll\", 'am', 'it', 'now', 'very', 's', \"shan't\", 'some', 'can', 'shan', 'which', 'what', 'him', 'his', 'does', 'than', 'there', 'as', 't', 'herself', 'further', 'its', 'these', 'most', 'again', 'above', 'here', 'any', 'after', 'been', 'be', 'himself', 'how', \"you'd\", 'them', 'own', \"you've\", 'too', \"that'll\", 'once', 'why', 'who', 'he', 'in', 'she', 'themselves', 'up', 'hers', 'when', 'a', 'then', 'd', 'was', 'having', 'through', 'of', 'from', 'against', 'an', 'same', 'down', 'both', 'during', 'i', 'we', 'her', 'that', 'into', 'under'}\n"
     ]
    }
   ],
   "source": [
    "print(stop_words)"
   ]
  },
  {
   "cell_type": "markdown",
   "id": "8ade7598",
   "metadata": {},
   "source": [
    "**Stemming**"
   ]
  },
  {
   "cell_type": "code",
   "execution_count": 14,
   "id": "f2a2f082",
   "metadata": {},
   "outputs": [],
   "source": [
    "port_stem = PorterStemmer()"
   ]
  },
  {
   "cell_type": "code",
   "execution_count": 15,
   "id": "3f93a104",
   "metadata": {},
   "outputs": [],
   "source": [
    "def stemming(content):\n",
    "    stemmed_content = re.sub('[^a-zA-Z]', \" \", content)   \n",
    "    \n",
    "    stemmed_content = stemmed_content.lower()\n",
    "    stemmed_content = stemmed_content.split()\n",
    "    stemmed_content = [port_stem.stem(word) for word in stemmed_content if word not in stop_words]   \n",
    "                                                          \n",
    "    stemmed_content = \" \".join(stemmed_content)\n",
    "    \n",
    "    return stemmed_content"
   ]
  },
  {
   "cell_type": "code",
   "execution_count": 16,
   "id": "a514ff58",
   "metadata": {},
   "outputs": [],
   "source": [
    "data[\"stemmed_content\"] = data[\"SentimentText\"].apply(stemming)"
   ]
  },
  {
   "cell_type": "code",
   "execution_count": 17,
   "id": "5d34fb42",
   "metadata": {},
   "outputs": [
    {
     "data": {
      "text/html": [
       "<div>\n",
       "<style scoped>\n",
       "    .dataframe tbody tr th:only-of-type {\n",
       "        vertical-align: middle;\n",
       "    }\n",
       "\n",
       "    .dataframe tbody tr th {\n",
       "        vertical-align: top;\n",
       "    }\n",
       "\n",
       "    .dataframe thead th {\n",
       "        text-align: right;\n",
       "    }\n",
       "</style>\n",
       "<table border=\"1\" class=\"dataframe\">\n",
       "  <thead>\n",
       "    <tr style=\"text-align: right;\">\n",
       "      <th></th>\n",
       "      <th>Target</th>\n",
       "      <th>Date</th>\n",
       "      <th>Flag</th>\n",
       "      <th>SentimentText</th>\n",
       "      <th>stemmed_content</th>\n",
       "    </tr>\n",
       "  </thead>\n",
       "  <tbody>\n",
       "    <tr>\n",
       "      <th>0</th>\n",
       "      <td>0</td>\n",
       "      <td>Mon Apr 06 22:19:45 PDT 2009</td>\n",
       "      <td>NO_QUERY</td>\n",
       "      <td>@switchfoot http://twitpic.com/2y1zl - Awww, t...</td>\n",
       "      <td>switchfoot http twitpic com zl awww bummer sho...</td>\n",
       "    </tr>\n",
       "    <tr>\n",
       "      <th>1</th>\n",
       "      <td>0</td>\n",
       "      <td>Mon Apr 06 22:19:49 PDT 2009</td>\n",
       "      <td>NO_QUERY</td>\n",
       "      <td>is upset that he can't update his Facebook by ...</td>\n",
       "      <td>upset updat facebook text might cri result sch...</td>\n",
       "    </tr>\n",
       "    <tr>\n",
       "      <th>2</th>\n",
       "      <td>0</td>\n",
       "      <td>Mon Apr 06 22:19:53 PDT 2009</td>\n",
       "      <td>NO_QUERY</td>\n",
       "      <td>@Kenichan I dived many times for the ball. Man...</td>\n",
       "      <td>kenichan dive mani time ball manag save rest g...</td>\n",
       "    </tr>\n",
       "    <tr>\n",
       "      <th>3</th>\n",
       "      <td>0</td>\n",
       "      <td>Mon Apr 06 22:19:57 PDT 2009</td>\n",
       "      <td>NO_QUERY</td>\n",
       "      <td>my whole body feels itchy and like its on fire</td>\n",
       "      <td>whole bodi feel itchi like fire</td>\n",
       "    </tr>\n",
       "    <tr>\n",
       "      <th>4</th>\n",
       "      <td>0</td>\n",
       "      <td>Mon Apr 06 22:19:57 PDT 2009</td>\n",
       "      <td>NO_QUERY</td>\n",
       "      <td>@nationwideclass no, it's not behaving at all....</td>\n",
       "      <td>nationwideclass no not behav mad see</td>\n",
       "    </tr>\n",
       "  </tbody>\n",
       "</table>\n",
       "</div>"
      ],
      "text/plain": [
       "   Target                          Date      Flag  \\\n",
       "0       0  Mon Apr 06 22:19:45 PDT 2009  NO_QUERY   \n",
       "1       0  Mon Apr 06 22:19:49 PDT 2009  NO_QUERY   \n",
       "2       0  Mon Apr 06 22:19:53 PDT 2009  NO_QUERY   \n",
       "3       0  Mon Apr 06 22:19:57 PDT 2009  NO_QUERY   \n",
       "4       0  Mon Apr 06 22:19:57 PDT 2009  NO_QUERY   \n",
       "\n",
       "                                       SentimentText  \\\n",
       "0  @switchfoot http://twitpic.com/2y1zl - Awww, t...   \n",
       "1  is upset that he can't update his Facebook by ...   \n",
       "2  @Kenichan I dived many times for the ball. Man...   \n",
       "3    my whole body feels itchy and like its on fire    \n",
       "4  @nationwideclass no, it's not behaving at all....   \n",
       "\n",
       "                                     stemmed_content  \n",
       "0  switchfoot http twitpic com zl awww bummer sho...  \n",
       "1  upset updat facebook text might cri result sch...  \n",
       "2  kenichan dive mani time ball manag save rest g...  \n",
       "3                    whole bodi feel itchi like fire  \n",
       "4               nationwideclass no not behav mad see  "
      ]
     },
     "execution_count": 17,
     "metadata": {},
     "output_type": "execute_result"
    }
   ],
   "source": [
    "data.head(5)"
   ]
  },
  {
   "cell_type": "markdown",
   "id": "6f08805a",
   "metadata": {},
   "source": [
    "**Splitting of data**"
   ]
  },
  {
   "cell_type": "code",
   "execution_count": 18,
   "id": "a0aaccda",
   "metadata": {},
   "outputs": [],
   "source": [
    "X = data[\"stemmed_content\"].values\n",
    "y = data[\"Target\"].values"
   ]
  },
  {
   "cell_type": "code",
   "execution_count": 19,
   "id": "28b09058",
   "metadata": {},
   "outputs": [
    {
     "data": {
      "text/plain": [
       "array(['switchfoot http twitpic com zl awww bummer shoulda got david carr third day',\n",
       "       'upset updat facebook text might cri result school today also blah',\n",
       "       'kenichan dive mani time ball manag save rest go bound', ...,\n",
       "       'readi mojo makeov ask detail',\n",
       "       'happi th birthday boo alll time tupac amaru shakur',\n",
       "       'happi charitytuesday thenspcc sparkschar speakinguph h'],\n",
       "      dtype=object)"
      ]
     },
     "execution_count": 19,
     "metadata": {},
     "output_type": "execute_result"
    }
   ],
   "source": [
    "X"
   ]
  },
  {
   "cell_type": "code",
   "execution_count": 20,
   "id": "13486787",
   "metadata": {},
   "outputs": [
    {
     "data": {
      "text/plain": [
       "array([0, 0, 0, ..., 1, 1, 1], dtype=int64)"
      ]
     },
     "execution_count": 20,
     "metadata": {},
     "output_type": "execute_result"
    }
   ],
   "source": [
    "y"
   ]
  },
  {
   "cell_type": "code",
   "execution_count": 21,
   "id": "5940be7a",
   "metadata": {},
   "outputs": [],
   "source": [
    "X_train, X_test, y_train, y_test = train_test_split(X, y, test_size = 0.2, stratify = y, random_state = 42)"
   ]
  },
  {
   "cell_type": "code",
   "execution_count": 22,
   "id": "1c4f8b5a",
   "metadata": {},
   "outputs": [
    {
     "name": "stdout",
     "output_type": "stream",
     "text": [
      "(1600000,) (1280000,) (320000,)\n",
      "(1600000,) (1280000,) (320000,)\n"
     ]
    }
   ],
   "source": [
    "print(X.shape, X_train.shape, X_test.shape)\n",
    "print(y.shape, y_train.shape, y_test.shape)"
   ]
  },
  {
   "cell_type": "code",
   "execution_count": 23,
   "id": "b51c50e8",
   "metadata": {},
   "outputs": [
    {
     "name": "stdout",
     "output_type": "stream",
     "text": [
      "['paisleypaisley lol get idea far advanc not even june yet need third knitter summer group'\n",
      " 'worst headach ever'\n",
      " 'ewaniesciuszko sad wont see miss alreadi yeah perfect come back th' ...\n",
      " 'got home meet talk endlessli one coolest guy ever met smile'\n",
      " 'bought chocol bar quot win free bar quot label didn win either'\n",
      " 'misecia said hope dm email sunday']\n"
     ]
    }
   ],
   "source": [
    "print(X_train)"
   ]
  },
  {
   "cell_type": "code",
   "execution_count": 24,
   "id": "2a0f6c22",
   "metadata": {},
   "outputs": [
    {
     "name": "stdout",
     "output_type": "stream",
     "text": [
      "['stm denali ye black red fav color realli want color def look awesom jare'\n",
      " 'qu buy open hous weekend pm best valu one bedroom lic long island citi bd http tinyurl com pt nqd'\n",
      " 'ginoandfran fran greet air okay hahahaha thank' ...\n",
      " 'la brat follow also hope atleast get also wish get well soon'\n",
      " 'feel like haven decent swell sinc last fall no hope wave myrtl beach week either least golf'\n",
      " 'relaxin busi day']\n"
     ]
    }
   ],
   "source": [
    "print(X_test)"
   ]
  },
  {
   "cell_type": "markdown",
   "id": "e21316e5",
   "metadata": {},
   "source": [
    "**Converting Stemmed text data into numerical data**"
   ]
  },
  {
   "cell_type": "code",
   "execution_count": 25,
   "id": "9adf87ea",
   "metadata": {},
   "outputs": [],
   "source": [
    "vectorizer = TfidfVectorizer()\n",
    "\n",
    "X_train = vectorizer.fit_transform(X_train)\n",
    "X_test = vectorizer.transform(X_test)"
   ]
  },
  {
   "cell_type": "code",
   "execution_count": 26,
   "id": "ee8eb030",
   "metadata": {},
   "outputs": [
    {
     "name": "stdout",
     "output_type": "stream",
     "text": [
      "  (0, 154769)\t0.2675203601955667\n",
      "  (0, 388148)\t0.20384005670558722\n",
      "  (0, 220301)\t0.4265758710667864\n",
      "  (0, 406307)\t0.29534284236399205\n",
      "  (0, 286485)\t0.15988998331567975\n",
      "  (0, 454394)\t0.20001721234138736\n",
      "  (0, 205799)\t0.23939269916324266\n",
      "  (0, 124526)\t0.18165907523264582\n",
      "  (0, 294687)\t0.12876341009756778\n",
      "  (0, 4832)\t0.3144347330668529\n",
      "  (0, 128607)\t0.2192480793395498\n",
      "  (0, 175256)\t0.2222054926796967\n",
      "  (0, 146069)\t0.1282209284053256\n",
      "  (0, 239684)\t0.1500408472598156\n",
      "  (0, 307117)\t0.4582139926814374\n",
      "  (1, 124613)\t0.5113765148324884\n",
      "  (1, 161805)\t0.5778049407933611\n",
      "  (1, 445882)\t0.6361096685891185\n",
      "  (2, 400202)\t0.2722541116865256\n",
      "  (2, 31063)\t0.1936303169258752\n",
      "  (2, 78861)\t0.21039643874061958\n",
      "  (2, 312666)\t0.3154702974657607\n",
      "  (2, 453433)\t0.2347069337186747\n",
      "  (2, 12436)\t0.2529872032123258\n",
      "  (2, 267655)\t0.19309660201644555\n",
      "  :\t:\n",
      "  (1279997, 80839)\t0.4085075096529922\n",
      "  (1279997, 262081)\t0.3257051331036561\n",
      "  (1279997, 372807)\t0.3021907911926725\n",
      "  (1279997, 394130)\t0.24857410036759808\n",
      "  (1279997, 259070)\t0.26819595864353835\n",
      "  (1279997, 151850)\t0.18681351768822982\n",
      "  (1279997, 156394)\t0.23570311036994007\n",
      "  (1279997, 168650)\t0.20490659397970187\n",
      "  (1279997, 301692)\t0.1908678391932645\n",
      "  (1279997, 124613)\t0.2537781914144255\n",
      "  (1279998, 225240)\t0.34430541131525505\n",
      "  (1279998, 33019)\t0.5404661406364809\n",
      "  (1279998, 138190)\t0.22484767891979487\n",
      "  (1279998, 442757)\t0.4516235245845669\n",
      "  (1279998, 115956)\t0.23756856217611583\n",
      "  (1279998, 49119)\t0.24481243917728265\n",
      "  (1279998, 71116)\t0.25624122529448473\n",
      "  (1279998, 100749)\t0.19032967018694794\n",
      "  (1279998, 329560)\t0.34142780625849106\n",
      "  (1279999, 267432)\t0.6654816651208961\n",
      "  (1279999, 349909)\t0.3245817059299737\n",
      "  (1279999, 118244)\t0.3604832171863622\n",
      "  (1279999, 388501)\t0.3269499490733422\n",
      "  (1279999, 104827)\t0.39497658307784106\n",
      "  (1279999, 169473)\t0.24275491614294809\n"
     ]
    }
   ],
   "source": [
    "print(X_train) #print few features"
   ]
  },
  {
   "cell_type": "code",
   "execution_count": 27,
   "id": "9c223dfc",
   "metadata": {},
   "outputs": [
    {
     "name": "stdout",
     "output_type": "stream",
     "text": [
      "  (0, 453370)\t0.1781708363247895\n",
      "  (0, 435966)\t0.14183025329879742\n",
      "  (0, 384707)\t0.3281164007446601\n",
      "  (0, 335586)\t0.22602158147814247\n",
      "  (0, 334652)\t0.14719329779308424\n",
      "  (0, 240456)\t0.15341308097014625\n",
      "  (0, 189062)\t0.31324918577405797\n",
      "  (0, 129419)\t0.25650960779862714\n",
      "  (0, 97585)\t0.4019235611854435\n",
      "  (0, 96399)\t0.255967788489452\n",
      "  (0, 78636)\t0.5158100011206617\n",
      "  (0, 43712)\t0.23562815302828183\n",
      "  (0, 28874)\t0.1778395103911245\n",
      "  (1, 438148)\t0.16390196841168053\n",
      "  (1, 428485)\t0.2850923429146983\n",
      "  (1, 409752)\t0.19539196331452124\n",
      "  (1, 328550)\t0.30370566878650734\n",
      "  (1, 325423)\t0.2832875855026037\n",
      "  (1, 318918)\t0.20246938925608493\n",
      "  (1, 303012)\t0.19949441578138133\n",
      "  (1, 301692)\t0.13212235134015302\n",
      "  (1, 240228)\t0.1674195650536303\n",
      "  (1, 233859)\t0.3852709938491561\n",
      "  (1, 183283)\t0.24586158827112847\n",
      "  (1, 171249)\t0.12468774856570086\n",
      "  :\t:\n",
      "  (319997, 146069)\t0.3148589224636577\n",
      "  (319997, 135538)\t0.2180996497753238\n",
      "  (319997, 50642)\t0.43928210420670694\n",
      "  (319997, 26831)\t0.3719080523542869\n",
      "  (319997, 12543)\t0.5121851862559001\n",
      "  (319998, 438131)\t0.1799081948211278\n",
      "  (319998, 436871)\t0.2885873808726607\n",
      "  (319998, 391867)\t0.34078192678064945\n",
      "  (319998, 368638)\t0.21696129941903203\n",
      "  (319998, 293182)\t0.14460857478615197\n",
      "  (319998, 281891)\t0.3898240526770341\n",
      "  (319998, 234590)\t0.14115133302344562\n",
      "  (319998, 230526)\t0.22306710851409958\n",
      "  (319998, 227867)\t0.1700132350571158\n",
      "  (319998, 169473)\t0.16230760888298554\n",
      "  (319998, 160943)\t0.22094404860272587\n",
      "  (319998, 150605)\t0.2967753514672382\n",
      "  (319998, 130272)\t0.15826145030523514\n",
      "  (319998, 127981)\t0.2394301232169112\n",
      "  (319998, 115956)\t0.23714477124643996\n",
      "  (319998, 95798)\t0.30522152202611763\n",
      "  (319998, 35323)\t0.233831862387819\n",
      "  (319999, 337084)\t0.8157842033312918\n",
      "  (319999, 93851)\t0.29587691594229903\n",
      "  (319999, 56596)\t0.4969436428888121\n"
     ]
    }
   ],
   "source": [
    "print(X_test)"
   ]
  },
  {
   "cell_type": "code",
   "execution_count": 28,
   "id": "2a00c5df",
   "metadata": {},
   "outputs": [
    {
     "name": "stdout",
     "output_type": "stream",
     "text": [
      "  (0, 459957)\t0.41627867425792586\n",
      "  (0, 420606)\t0.1865385693254612\n",
      "  (0, 406307)\t0.29854270797365096\n",
      "  (0, 392180)\t0.41479323430844955\n",
      "  (0, 366019)\t0.3284290796664542\n",
      "  (0, 171249)\t0.14413129430165852\n",
      "  (0, 151850)\t0.14948111853899895\n",
      "  (0, 93851)\t0.13082869170725286\n",
      "  (0, 93065)\t0.25780300364797654\n",
      "  (0, 78790)\t0.15473757026719526\n",
      "  (0, 62167)\t0.3759674188759018\n",
      "  (0, 55914)\t0.2775339088129143\n",
      "  (0, 29290)\t0.23205890441727312\n",
      "  (1, 426396)\t0.3363811438167184\n",
      "  (1, 426183)\t0.2862192778334295\n",
      "  (1, 411265)\t0.1925592595022768\n",
      "  (1, 399843)\t0.3079651903769513\n",
      "  (1, 355647)\t0.24798439156571286\n",
      "  (1, 338473)\t0.3637500873716349\n",
      "  (1, 264601)\t0.28209249986583435\n",
      "  (1, 127173)\t0.3152193416266341\n",
      "  (1, 84438)\t0.2891281596358214\n",
      "  (1, 44099)\t0.372516513554566\n",
      "  (1, 12543)\t0.27908991789864007\n",
      "  (2, 408869)\t0.17067537638444435\n",
      "  :\t:\n",
      "  (1599996, 162097)\t0.206796400201646\n",
      "  (1599996, 135100)\t0.2428988425571604\n",
      "  (1599996, 80791)\t0.19718450006951543\n",
      "  (1599996, 78790)\t0.15311825782920688\n",
      "  (1599996, 46339)\t0.49627448007885216\n",
      "  (1599996, 44926)\t0.24861121776324793\n",
      "  (1599997, 334383)\t0.30194383240566697\n",
      "  (1599997, 272018)\t0.5417599588875953\n",
      "  (1599997, 249125)\t0.5530089166027844\n",
      "  (1599997, 98932)\t0.44264389494815115\n",
      "  (1599997, 25612)\t0.33700680919120013\n",
      "  (1599998, 418459)\t0.41019527715536547\n",
      "  (1599998, 408869)\t0.15412416750490987\n",
      "  (1599998, 400202)\t0.22379217386254543\n",
      "  (1599998, 361367)\t0.49122862819123997\n",
      "  (1599998, 159576)\t0.18592970951055765\n",
      "  (1599998, 47761)\t0.24584240616062325\n",
      "  (1599998, 42816)\t0.2218371992565246\n",
      "  (1599998, 13685)\t0.49122862819123997\n",
      "  (1599998, 11652)\t0.3620378705044936\n",
      "  (1599999, 403865)\t0.5015605162230605\n",
      "  (1599999, 378162)\t0.516124308613208\n",
      "  (1599999, 377964)\t0.516124308613208\n",
      "  (1599999, 159576)\t0.18289553754777974\n",
      "  (1599999, 67159)\t0.4268696136154945\n"
     ]
    }
   ],
   "source": [
    "tf_test_nolabel=vectorizer.transform(data.stemmed_content)\n",
    "print(tf_test_nolabel)"
   ]
  },
  {
   "cell_type": "markdown",
   "id": "bd422f8c",
   "metadata": {},
   "source": [
    "**Training the Logistic Regression Model**"
   ]
  },
  {
   "cell_type": "code",
   "execution_count": 29,
   "id": "4ce70aad",
   "metadata": {},
   "outputs": [],
   "source": [
    "model = LogisticRegression(max_iter=1000)"
   ]
  },
  {
   "cell_type": "code",
   "execution_count": 30,
   "id": "f15a0edc",
   "metadata": {},
   "outputs": [
    {
     "data": {
      "text/html": [
       "<style>#sk-container-id-1 {color: black;}#sk-container-id-1 pre{padding: 0;}#sk-container-id-1 div.sk-toggleable {background-color: white;}#sk-container-id-1 label.sk-toggleable__label {cursor: pointer;display: block;width: 100%;margin-bottom: 0;padding: 0.3em;box-sizing: border-box;text-align: center;}#sk-container-id-1 label.sk-toggleable__label-arrow:before {content: \"▸\";float: left;margin-right: 0.25em;color: #696969;}#sk-container-id-1 label.sk-toggleable__label-arrow:hover:before {color: black;}#sk-container-id-1 div.sk-estimator:hover label.sk-toggleable__label-arrow:before {color: black;}#sk-container-id-1 div.sk-toggleable__content {max-height: 0;max-width: 0;overflow: hidden;text-align: left;background-color: #f0f8ff;}#sk-container-id-1 div.sk-toggleable__content pre {margin: 0.2em;color: black;border-radius: 0.25em;background-color: #f0f8ff;}#sk-container-id-1 input.sk-toggleable__control:checked~div.sk-toggleable__content {max-height: 200px;max-width: 100%;overflow: auto;}#sk-container-id-1 input.sk-toggleable__control:checked~label.sk-toggleable__label-arrow:before {content: \"▾\";}#sk-container-id-1 div.sk-estimator input.sk-toggleable__control:checked~label.sk-toggleable__label {background-color: #d4ebff;}#sk-container-id-1 div.sk-label input.sk-toggleable__control:checked~label.sk-toggleable__label {background-color: #d4ebff;}#sk-container-id-1 input.sk-hidden--visually {border: 0;clip: rect(1px 1px 1px 1px);clip: rect(1px, 1px, 1px, 1px);height: 1px;margin: -1px;overflow: hidden;padding: 0;position: absolute;width: 1px;}#sk-container-id-1 div.sk-estimator {font-family: monospace;background-color: #f0f8ff;border: 1px dotted black;border-radius: 0.25em;box-sizing: border-box;margin-bottom: 0.5em;}#sk-container-id-1 div.sk-estimator:hover {background-color: #d4ebff;}#sk-container-id-1 div.sk-parallel-item::after {content: \"\";width: 100%;border-bottom: 1px solid gray;flex-grow: 1;}#sk-container-id-1 div.sk-label:hover label.sk-toggleable__label {background-color: #d4ebff;}#sk-container-id-1 div.sk-serial::before {content: \"\";position: absolute;border-left: 1px solid gray;box-sizing: border-box;top: 0;bottom: 0;left: 50%;z-index: 0;}#sk-container-id-1 div.sk-serial {display: flex;flex-direction: column;align-items: center;background-color: white;padding-right: 0.2em;padding-left: 0.2em;position: relative;}#sk-container-id-1 div.sk-item {position: relative;z-index: 1;}#sk-container-id-1 div.sk-parallel {display: flex;align-items: stretch;justify-content: center;background-color: white;position: relative;}#sk-container-id-1 div.sk-item::before, #sk-container-id-1 div.sk-parallel-item::before {content: \"\";position: absolute;border-left: 1px solid gray;box-sizing: border-box;top: 0;bottom: 0;left: 50%;z-index: -1;}#sk-container-id-1 div.sk-parallel-item {display: flex;flex-direction: column;z-index: 1;position: relative;background-color: white;}#sk-container-id-1 div.sk-parallel-item:first-child::after {align-self: flex-end;width: 50%;}#sk-container-id-1 div.sk-parallel-item:last-child::after {align-self: flex-start;width: 50%;}#sk-container-id-1 div.sk-parallel-item:only-child::after {width: 0;}#sk-container-id-1 div.sk-dashed-wrapped {border: 1px dashed gray;margin: 0 0.4em 0.5em 0.4em;box-sizing: border-box;padding-bottom: 0.4em;background-color: white;}#sk-container-id-1 div.sk-label label {font-family: monospace;font-weight: bold;display: inline-block;line-height: 1.2em;}#sk-container-id-1 div.sk-label-container {text-align: center;}#sk-container-id-1 div.sk-container {/* jupyter's `normalize.less` sets `[hidden] { display: none; }` but bootstrap.min.css set `[hidden] { display: none !important; }` so we also need the `!important` here to be able to override the default hidden behavior on the sphinx rendered scikit-learn.org. See: https://github.com/scikit-learn/scikit-learn/issues/21755 */display: inline-block !important;position: relative;}#sk-container-id-1 div.sk-text-repr-fallback {display: none;}</style><div id=\"sk-container-id-1\" class=\"sk-top-container\"><div class=\"sk-text-repr-fallback\"><pre>LogisticRegression(max_iter=1000)</pre><b>In a Jupyter environment, please rerun this cell to show the HTML representation or trust the notebook. <br />On GitHub, the HTML representation is unable to render, please try loading this page with nbviewer.org.</b></div><div class=\"sk-container\" hidden><div class=\"sk-item\"><div class=\"sk-estimator sk-toggleable\"><input class=\"sk-toggleable__control sk-hidden--visually\" id=\"sk-estimator-id-1\" type=\"checkbox\" checked><label for=\"sk-estimator-id-1\" class=\"sk-toggleable__label sk-toggleable__label-arrow\">LogisticRegression</label><div class=\"sk-toggleable__content\"><pre>LogisticRegression(max_iter=1000)</pre></div></div></div></div></div>"
      ],
      "text/plain": [
       "LogisticRegression(max_iter=1000)"
      ]
     },
     "execution_count": 30,
     "metadata": {},
     "output_type": "execute_result"
    }
   ],
   "source": [
    "model.fit(X_train, y_train)"
   ]
  },
  {
   "cell_type": "code",
   "execution_count": 31,
   "id": "6ee88f99",
   "metadata": {},
   "outputs": [],
   "source": [
    "expected = y_test\n",
    "predicted=model.predict(X_test)"
   ]
  },
  {
   "cell_type": "code",
   "execution_count": 32,
   "id": "f765ab95",
   "metadata": {
    "scrolled": false
   },
   "outputs": [
    {
     "data": {
      "image/png": "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",
      "text/plain": [
       "<Figure size 640x480 with 2 Axes>"
      ]
     },
     "metadata": {},
     "output_type": "display_data"
    }
   ],
   "source": [
    "import matplotlib.pyplot as plt\n",
    "\n",
    "disp = ConfusionMatrixDisplay(metrics.confusion_matrix(expected, predicted),\n",
    "                               display_labels=model.classes_)\n",
    "disp.plot()\n",
    "\n",
    "plt.show()"
   ]
  },
  {
   "cell_type": "code",
   "execution_count": 33,
   "id": "e78a639b",
   "metadata": {
    "scrolled": true
   },
   "outputs": [
    {
     "name": "stdout",
     "output_type": "stream",
     "text": [
      "              precision    recall  f1-score   support\n",
      "\n",
      "           0       0.80      0.77      0.78    160000\n",
      "           1       0.78      0.80      0.79    160000\n",
      "\n",
      "    accuracy                           0.79    320000\n",
      "   macro avg       0.79      0.79      0.79    320000\n",
      "weighted avg       0.79      0.79      0.79    320000\n",
      "\n",
      "[[123785  36215]\n",
      " [ 31595 128405]]\n"
     ]
    }
   ],
   "source": [
    "print(metrics.classification_report(expected, predicted))\n",
    "print(metrics.confusion_matrix(expected, predicted))"
   ]
  },
  {
   "cell_type": "markdown",
   "id": "d3d9c87c",
   "metadata": {},
   "source": [
    "**Model Evaluation by Accuracy Score**"
   ]
  },
  {
   "cell_type": "markdown",
   "id": "f2e30c0b",
   "metadata": {},
   "source": [
    "***1)  Accuracy score on the Training Data***"
   ]
  },
  {
   "cell_type": "code",
   "execution_count": 34,
   "id": "f498976d",
   "metadata": {},
   "outputs": [
    {
     "name": "stdout",
     "output_type": "stream",
     "text": [
      "Accuracy score on the Training Data:  81.607 %\n"
     ]
    }
   ],
   "source": [
    "X_train_prediction = model.predict(X_train)   #making predictions on training data\n",
    "training_data_accuracy = accuracy_score(y_train, X_train_prediction)\n",
    "\n",
    "print(\"Accuracy score on the Training Data: \", round(training_data_accuracy*100, 3), \"%\")"
   ]
  },
  {
   "cell_type": "markdown",
   "id": "45d3a388",
   "metadata": {},
   "source": [
    "***2)  Accuracy score on the Test Data***"
   ]
  },
  {
   "cell_type": "code",
   "execution_count": 35,
   "id": "e6cd92bf",
   "metadata": {},
   "outputs": [
    {
     "name": "stdout",
     "output_type": "stream",
     "text": [
      "Accuracy score on the Testing Data:  78.809 %\n"
     ]
    }
   ],
   "source": [
    "X_test_prediction = model.predict(X_test)   #making predictions on test data\n",
    "testing_data_accuracy = accuracy_score(y_test, X_test_prediction)\n",
    "\n",
    "print(\"Accuracy score on the Testing Data: \", round(testing_data_accuracy*100, 3), \"%\")"
   ]
  },
  {
   "cell_type": "code",
   "execution_count": 36,
   "id": "bad9e4cd",
   "metadata": {},
   "outputs": [
    {
     "data": {
      "text/html": [
       "<div>\n",
       "<style scoped>\n",
       "    .dataframe tbody tr th:only-of-type {\n",
       "        vertical-align: middle;\n",
       "    }\n",
       "\n",
       "    .dataframe tbody tr th {\n",
       "        vertical-align: top;\n",
       "    }\n",
       "\n",
       "    .dataframe thead th {\n",
       "        text-align: right;\n",
       "    }\n",
       "</style>\n",
       "<table border=\"1\" class=\"dataframe\">\n",
       "  <thead>\n",
       "    <tr style=\"text-align: right;\">\n",
       "      <th></th>\n",
       "      <th>tweet</th>\n",
       "      <th>accuracy</th>\n",
       "    </tr>\n",
       "  </thead>\n",
       "  <tbody>\n",
       "    <tr>\n",
       "      <th>0</th>\n",
       "      <td>switchfoot http twitpic com zl awww bummer sho...</td>\n",
       "      <td>78.809</td>\n",
       "    </tr>\n",
       "    <tr>\n",
       "      <th>1</th>\n",
       "      <td>upset updat facebook text might cri result sch...</td>\n",
       "      <td>78.809</td>\n",
       "    </tr>\n",
       "    <tr>\n",
       "      <th>2</th>\n",
       "      <td>kenichan dive mani time ball manag save rest g...</td>\n",
       "      <td>78.809</td>\n",
       "    </tr>\n",
       "    <tr>\n",
       "      <th>3</th>\n",
       "      <td>whole bodi feel itchi like fire</td>\n",
       "      <td>78.809</td>\n",
       "    </tr>\n",
       "    <tr>\n",
       "      <th>4</th>\n",
       "      <td>nationwideclass no not behav mad see</td>\n",
       "      <td>78.809</td>\n",
       "    </tr>\n",
       "    <tr>\n",
       "      <th>5</th>\n",
       "      <td>kwesidei not whole crew</td>\n",
       "      <td>78.809</td>\n",
       "    </tr>\n",
       "    <tr>\n",
       "      <th>6</th>\n",
       "      <td>need hug</td>\n",
       "      <td>78.809</td>\n",
       "    </tr>\n",
       "    <tr>\n",
       "      <th>7</th>\n",
       "      <td>loltrish hey long time no see ye rain bit bit ...</td>\n",
       "      <td>78.809</td>\n",
       "    </tr>\n",
       "    <tr>\n",
       "      <th>8</th>\n",
       "      <td>tatiana k nope didn</td>\n",
       "      <td>78.809</td>\n",
       "    </tr>\n",
       "    <tr>\n",
       "      <th>9</th>\n",
       "      <td>twittera que muera</td>\n",
       "      <td>78.809</td>\n",
       "    </tr>\n",
       "    <tr>\n",
       "      <th>10</th>\n",
       "      <td>spring break plain citi snow</td>\n",
       "      <td>78.809</td>\n",
       "    </tr>\n",
       "    <tr>\n",
       "      <th>11</th>\n",
       "      <td>pierc ear</td>\n",
       "      <td>78.809</td>\n",
       "    </tr>\n",
       "    <tr>\n",
       "      <th>12</th>\n",
       "      <td>caregiv bear watch thought ua loss embarrass</td>\n",
       "      <td>78.809</td>\n",
       "    </tr>\n",
       "    <tr>\n",
       "      <th>13</th>\n",
       "      <td>octolinz count idk either never talk anymor</td>\n",
       "      <td>78.809</td>\n",
       "    </tr>\n",
       "    <tr>\n",
       "      <th>14</th>\n",
       "      <td>smarrison would first didn gun not realli thou...</td>\n",
       "      <td>78.809</td>\n",
       "    </tr>\n",
       "  </tbody>\n",
       "</table>\n",
       "</div>"
      ],
      "text/plain": [
       "                                                tweet  accuracy\n",
       "0   switchfoot http twitpic com zl awww bummer sho...    78.809\n",
       "1   upset updat facebook text might cri result sch...    78.809\n",
       "2   kenichan dive mani time ball manag save rest g...    78.809\n",
       "3                     whole bodi feel itchi like fire    78.809\n",
       "4                nationwideclass no not behav mad see    78.809\n",
       "5                             kwesidei not whole crew    78.809\n",
       "6                                            need hug    78.809\n",
       "7   loltrish hey long time no see ye rain bit bit ...    78.809\n",
       "8                                 tatiana k nope didn    78.809\n",
       "9                                  twittera que muera    78.809\n",
       "10                       spring break plain citi snow    78.809\n",
       "11                                          pierc ear    78.809\n",
       "12       caregiv bear watch thought ua loss embarrass    78.809\n",
       "13        octolinz count idk either never talk anymor    78.809\n",
       "14  smarrison would first didn gun not realli thou...    78.809"
      ]
     },
     "execution_count": 36,
     "metadata": {},
     "output_type": "execute_result"
    }
   ],
   "source": [
    "output = pd.DataFrame(data = {\"tweet\": data[\"stemmed_content\"], \"accuracy\": round(testing_data_accuracy*100, 3)})\n",
    "output.head(15)\n"
   ]
  },
  {
   "cell_type": "markdown",
   "id": "eae7e4d2",
   "metadata": {},
   "source": [
    "**Training the Naive Bayes Model**"
   ]
  },
  {
   "cell_type": "code",
   "execution_count": null,
   "id": "bf73fcd3",
   "metadata": {},
   "outputs": [],
   "source": [
    "model2 = MultinomialNB()"
   ]
  },
  {
   "cell_type": "code",
   "execution_count": null,
   "id": "bdf6080c",
   "metadata": {},
   "outputs": [],
   "source": [
    "model2.fit(X_train, y_train)"
   ]
  },
  {
   "cell_type": "code",
   "execution_count": null,
   "id": "df05b89b",
   "metadata": {},
   "outputs": [],
   "source": [
    "expected = y_test\n",
    "predicted=model2.predict(X_test)"
   ]
  },
  {
   "cell_type": "code",
   "execution_count": null,
   "id": "d63445b5",
   "metadata": {},
   "outputs": [],
   "source": [
    "import matplotlib.pyplot as plt\n",
    "\n",
    "disp = ConfusionMatrixDisplay(metrics.confusion_matrix(expected, predicted),\n",
    "                               display_labels=model2.classes_)\n",
    "disp.plot()\n",
    "\n",
    "plt.show()"
   ]
  },
  {
   "cell_type": "code",
   "execution_count": null,
   "id": "b37b2a5b",
   "metadata": {},
   "outputs": [],
   "source": [
    "print(metrics.classification_report(expected, predicted))\n",
    "print(metrics.confusion_matrix(expected, predicted))"
   ]
  },
  {
   "cell_type": "markdown",
   "id": "f8d2d2ac",
   "metadata": {},
   "source": [
    "**Model Evaluation by Accuracy Score**"
   ]
  },
  {
   "cell_type": "markdown",
   "id": "ad51cda8",
   "metadata": {},
   "source": [
    "***1) Accuracy score on the Training Data***"
   ]
  },
  {
   "cell_type": "code",
   "execution_count": null,
   "id": "57c9a53d",
   "metadata": {},
   "outputs": [],
   "source": [
    "X_train_prediction = model2.predict(X_train)   #making predictions on training data\n",
    "training_data_accuracy = accuracy_score(y_train, X_train_prediction)\n",
    "\n",
    "print(\"Accuracy score on the Training Data: \", round(training_data_accuracy*100, 3), \"%\")"
   ]
  },
  {
   "cell_type": "markdown",
   "id": "22992ba7",
   "metadata": {},
   "source": [
    "***2) Accuracy score on the Test Data***"
   ]
  },
  {
   "cell_type": "code",
   "execution_count": null,
   "id": "fd81ed18",
   "metadata": {},
   "outputs": [],
   "source": [
    "X_test_prediction = model2.predict(X_test)   #making predictions on test data\n",
    "testing_data_accuracy = accuracy_score(y_test, X_test_prediction)\n",
    "\n",
    "print(\"Accuracy score on the Testing Data: \", round(testing_data_accuracy*100, 3), \"%\")"
   ]
  },
  {
   "cell_type": "markdown",
   "id": "02bb0d29",
   "metadata": {},
   "source": [
    "**Saving the linear regression model**"
   ]
  },
  {
   "cell_type": "code",
   "execution_count": null,
   "id": "a52d8f5e",
   "metadata": {},
   "outputs": [],
   "source": [
    "filename_LG = 'final_model.sav'\n",
    "pickle.dump(model, open(filename, 'wb'))"
   ]
  },
  {
   "cell_type": "markdown",
   "id": "7c537974",
   "metadata": {},
   "source": [
    "**Loading the Linear Regression model**"
   ]
  },
  {
   "cell_type": "code",
   "execution_count": null,
   "id": "a8395369",
   "metadata": {},
   "outputs": [],
   "source": [
    "filename = 'final_model.sav'\n",
    "final_model = pickle.load(open(filename_LG, 'rb'))"
   ]
  },
  {
   "cell_type": "code",
   "execution_count": null,
   "id": "71e9bb4d",
   "metadata": {},
   "outputs": [],
  },
  {
   "cell_type": "code",
   "execution_count": null,
   "id": "788b4a51",
   "metadata": {},
   "outputs": [],
  },
  {
   "cell_type": "markdown",
   "id": "9ce1ec87",
   "metadata": {},
   "source": [
    "**Testing on politics-related tweets**"
   ]
  },
  {
   "cell_type": "code",
   "execution_count": null,
   "id": "51401add",
   "metadata": {},
   "outputs": [],
   "source": []
  }
 ],
 "metadata": {
  "kernelspec": {
   "display_name": "Python 3 (ipykernel)",
   "language": "python",
   "name": "python3"
  },
  "language_info": {
   "codemirror_mode": {
    "name": "ipython",
    "version": 3
   },
   "file_extension": ".py",
   "mimetype": "text/x-python",
   "name": "python",
   "nbconvert_exporter": "python",
   "pygments_lexer": "ipython3",
   "version": "3.11.5"
  }
 },
 "nbformat": 4,
 "nbformat_minor": 5
}
